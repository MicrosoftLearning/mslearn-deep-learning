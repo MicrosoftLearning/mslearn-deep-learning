{
  "cells": [
    {
      "cell_type": "markdown",
      "source": [
        "# Preprocess the data with RAPIDS using GPUs\r\n",
        "\r\n",
        "In this notebook, we will take the data from the datastore as input and submit a job that runs a Python script. \r\n",
        "\r\n",
        "The script uses cuDF to load and preprocess the data."
      ],
      "metadata": {
        "nteract": {
          "transient": {
            "deleting": false
          }
        }
      }
    },
    {
      "cell_type": "markdown",
      "source": [
        "## Get environment variables\r\n",
        "\r\n",
        "Before we can submit the job, we have to get all necessary environment variables such as the workspace, datastore, and environment."
      ],
      "metadata": {
        "nteract": {
          "transient": {
            "deleting": false
          }
        }
      }
    },
    {
      "cell_type": "code",
      "source": [
        "from azureml.core import Workspace\r\n",
        "\r\n",
        "ws = Workspace.from_config()"
      ],
      "outputs": [],
      "execution_count": null,
      "metadata": {
        "gather": {
          "logged": 1637159460779
        }
      }
    },
    {
      "cell_type": "code",
      "source": [
        "from azureml.core import Environment\r\n",
        "\r\n",
        "rapidsai_env = Environment.get(workspace=ws, name=\"rapids-mlflow\")"
      ],
      "outputs": [],
      "execution_count": null,
      "metadata": {
        "jupyter": {
          "source_hidden": false,
          "outputs_hidden": false
        },
        "nteract": {
          "transient": {
            "deleting": false
          }
        },
        "gather": {
          "logged": 1637159477627
        }
      }
    },
    {
      "cell_type": "code",
      "source": [
        "from azureml.core import Image\r\n",
        "build = rapidsai_env.build(workspace=ws)\r\n",
        "build.wait_for_completion(show_output=True)"
      ],
      "outputs": [],
      "execution_count": null,
      "metadata": {
        "jupyter": {
          "source_hidden": false,
          "outputs_hidden": true
        },
        "nteract": {
          "transient": {
            "deleting": false
          }
        },
        "gather": {
          "logged": 1636545260823
        }
      }
    },
    {
      "cell_type": "code",
      "source": [
        "from azureml.core.dataset import Dataset\r\n",
        "default_ds = ws.get_default_datastore()\r\n",
        "\r\n",
        "data_full_ds = Dataset.File.from_files(default_ds.path('airport-data/airlines_raw_data_full.csv')).as_mount()\r\n",
        "airports_ds = Dataset.File.from_files(default_ds.path('airport-data/airports.csv')).as_mount()\r\n",
        "carriers_ds = Dataset.File.from_files(default_ds.path('airport-data/carriers.csv')).as_mount()"
      ],
      "outputs": [],
      "execution_count": null,
      "metadata": {
        "jupyter": {
          "source_hidden": false,
          "outputs_hidden": false
        },
        "nteract": {
          "transient": {
            "deleting": false
          }
        },
        "gather": {
          "logged": 1637159494130
        }
      }
    },
    {
      "cell_type": "markdown",
      "source": [
        "## Define the configuration and submit the run\r\n",
        "\r\n",
        "Now that we have defined all necessary variables, we can define the script run configuration and submit the run.\r\n",
        "\r\n",
        "**Warning!** Change the value of the compute_target variable to your compute cluster name before running the code below!"
      ],
      "metadata": {
        "nteract": {
          "transient": {
            "deleting": false
          }
        }
      }
    },
    {
      "cell_type": "code",
      "source": [
        "from azureml.core import ScriptRunConfig\r\n",
        "\r\n",
        "src = ScriptRunConfig(source_directory='script',\r\n",
        "                      script='preprocess-rapids.py',\r\n",
        "                      arguments = ['--data-file-full', data_full_ds,\r\n",
        "                                   '--airports-file', airports_ds,\r\n",
        "                                   '--carriers-file', carriers_ds],\r\n",
        "                      compute_target=\"<your-compute-cluster-name>\",\r\n",
        "                      environment=rapidsai_env)"
      ],
      "outputs": [],
      "execution_count": null,
      "metadata": {
        "jupyter": {
          "source_hidden": false,
          "outputs_hidden": false
        },
        "nteract": {
          "transient": {
            "deleting": false
          }
        },
        "gather": {
          "logged": 1637159517304
        }
      }
    },
    {
      "cell_type": "markdown",
      "source": [
        "To learn what is done during preprocessing, explore the script `preprocess-rapids.py` in the `script` folder.\r\n",
        "\r\n",
        "The following cell will initiate the run. Note that first, the compute cluster has to scale up from 0 nodes. Once a node is available, it will execute the script. The execution of the script should be fast and you can see the execution time in the **Details** tab of the **Experiment** run afterwards."
      ],
      "metadata": {
        "nteract": {
          "transient": {
            "deleting": false
          }
        }
      }
    },
    {
      "cell_type": "code",
      "source": [
        "from azureml.core import Experiment\r\n",
        "\r\n",
        "run = Experiment(ws,'preprocess-data').submit(src)\r\n",
        "run.wait_for_completion(show_output=True)"
      ],
      "outputs": [],
      "execution_count": null,
      "metadata": {
        "jupyter": {
          "source_hidden": false,
          "outputs_hidden": true
        },
        "nteract": {
          "transient": {
            "deleting": false
          }
        },
        "gather": {
          "logged": 1637161253641
        }
      }
    },
    {
      "cell_type": "markdown",
      "source": [
        "You should get a notification in the Studio that a new run has started and is running. \r\n",
        "\r\n",
        "You can also navigate to the **Experiments** tab, and find the experiment `preprocess-data` there. \r\n",
        "\r\n",
        "Once it has finished running, have a look at the **Metrics** tab to learn how much data was processed. In the **Details** tab, you can see how long it took to run."
      ],
      "metadata": {
        "nteract": {
          "transient": {
            "deleting": false
          }
        }
      }
    }
  ],
  "metadata": {
    "kernelspec": {
      "name": "python3-azureml",
      "language": "python",
      "display_name": "Python 3.6 - AzureML"
    },
    "language_info": {
      "name": "python",
      "version": "3.6.9",
      "mimetype": "text/x-python",
      "codemirror_mode": {
        "name": "ipython",
        "version": 3
      },
      "pygments_lexer": "ipython3",
      "nbconvert_exporter": "python",
      "file_extension": ".py"
    },
    "kernel_info": {
      "name": "python3-azureml"
    },
    "microsoft": {
      "host": {
        "AzureML": {
          "notebookHasBeenCompleted": true
        }
      }
    },
    "nteract": {
      "version": "nteract-front-end@1.0.0"
    }
  },
  "nbformat": 4,
  "nbformat_minor": 0
}
