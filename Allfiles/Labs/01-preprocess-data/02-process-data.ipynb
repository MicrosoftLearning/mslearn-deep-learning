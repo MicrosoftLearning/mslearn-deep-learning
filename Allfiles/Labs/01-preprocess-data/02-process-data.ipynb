{
  "cells": [
    {
      "cell_type": "markdown",
      "metadata": {
        "nteract": {
          "transient": {
            "deleting": false
          }
        }
      },
      "source": [
        "# Preprocess the data with RAPIDS using GPUs\n",
        "\n",
        "In this notebook, you'll take the data from the datastore as input and submit a job that runs a Python script. \n",
        "\n",
        "The script uses cuDF to load and preprocess the data."
      ]
    },
    {
      "cell_type": "markdown",
      "metadata": {
        "nteract": {
          "transient": {
            "deleting": false
          }
        }
      },
      "source": [
        "## Get environment variables\n",
        "\n",
        "Before you can submit the job, you have to get all necessary environment variables such as the workspace, datastore, and environment."
      ]
    },
    {
      "cell_type": "code",
      "execution_count": null,
      "metadata": {
        "gather": {
          "logged": 1641821027915
        }
      },
      "outputs": [],
      "source": [
        "from azureml.core import Workspace\n",
        "\n",
        "ws = Workspace.from_config()"
      ]
    },
    {
      "cell_type": "code",
      "execution_count": null,
      "metadata": {
        "gather": {
          "logged": 1641821029553
        },
        "jupyter": {
          "outputs_hidden": false,
          "source_hidden": false
        },
        "nteract": {
          "transient": {
            "deleting": false
          }
        }
      },
      "outputs": [],
      "source": [
        "from azureml.core import Environment\n",
        "from azureml.core.runconfig import DockerConfiguration\n",
        "\n",
        "rapidsai_env = Environment.get(workspace=ws, name=\"rapids-mlflow\")\n",
        "d_config = DockerConfiguration(arguments=['-it'])"
      ]
    },
    {
      "cell_type": "code",
      "execution_count": null,
      "metadata": {
        "gather": {
          "logged": 1641821038286
        },
        "jupyter": {
          "outputs_hidden": false,
          "source_hidden": false
        },
        "nteract": {
          "transient": {
            "deleting": false
          }
        }
      },
      "outputs": [],
      "source": [
        "from azureml.core.dataset import Dataset\n",
        "default_ds = ws.get_default_datastore()\n",
        "\n",
        "data_full_ds = Dataset.File.from_files(default_ds.path('airport-data/airlines_raw_data_full.csv')).as_mount()\n",
        "airports_ds = Dataset.File.from_files(default_ds.path('airport-data/airports.csv')).as_mount()\n",
        "carriers_ds = Dataset.File.from_files(default_ds.path('airport-data/carriers.csv')).as_mount()"
      ]
    },
    {
      "cell_type": "markdown",
      "metadata": {
        "nteract": {
          "transient": {
            "deleting": false
          }
        }
      },
      "source": [
        "## Define the configuration and submit the run\n",
        "\n",
        "Now that you have defined all necessary variables, you can define the script run configuration and submit the run.\n",
        "\n",
        "**Warning!** Change the value of the compute_target variable to your compute cluster name before running the code below!"
      ]
    },
    {
      "cell_type": "code",
      "execution_count": null,
      "metadata": {
        "gather": {
          "logged": 1641821043046
        },
        "jupyter": {
          "outputs_hidden": false,
          "source_hidden": false
        },
        "nteract": {
          "transient": {
            "deleting": false
          }
        }
      },
      "outputs": [],
      "source": [
        "from azureml.core import ScriptRunConfig\n",
        "\n",
        "src = ScriptRunConfig(source_directory='script',\n",
        "                      script='preprocess-rapids.py',\n",
        "                      arguments = ['--data-file-full', data_full_ds,\n",
        "                                   '--airports-file', airports_ds,\n",
        "                                   '--carriers-file', carriers_ds],\n",
        "                      compute_target=\"<your-compute-cluster>\",\n",
        "                      environment=rapidsai_env,\n",
        "                      docker_runtime_config=d_config)"
      ]
    },
    {
      "cell_type": "markdown",
      "metadata": {
        "nteract": {
          "transient": {
            "deleting": false
          }
        }
      },
      "source": [
        "To learn what is done during preprocessing, explore the script `preprocess-rapids.py` in the `script` folder.\n",
        "\n",
        "The following cell will initiate the run. Note that first, the compute cluster has to scale up from 0 nodes. Once a node is available, it will execute the script. The execution of the script should be fast and you can see the execution time in the **Details** tab of the **Experiment** run afterwards."
      ]
    },
    {
      "cell_type": "code",
      "execution_count": null,
      "metadata": {
        "gather": {
          "logged": 1641821575025
        },
        "jupyter": {
          "outputs_hidden": true,
          "source_hidden": false
        },
        "nteract": {
          "transient": {
            "deleting": false
          }
        }
      },
      "outputs": [],
      "source": [
        "from azureml.core import Experiment\n",
        "\n",
        "run = Experiment(ws,'preprocess-data').submit(src)\n",
        "run.wait_for_completion(show_output=True)"
      ]
    },
    {
      "cell_type": "markdown",
      "metadata": {
        "nteract": {
          "transient": {
            "deleting": false
          }
        }
      },
      "source": [
        "You should get a notification in the Studio that a new run has started and is running. \n",
        "\n",
        "You can also navigate to the **Experiments** tab, and find the experiment `preprocess-data` there. \n",
        "\n",
        "Once it has finished running, have a look at the **Metrics** tab to learn how much data was processed. In the **Details** tab, you can see how long it took to run."
      ]
    }
  ],
  "metadata": {
    "kernel_info": {
      "name": "python3-azureml"
    },
    "kernelspec": {
      "display_name": "Python 3.6 - AzureML",
      "language": "python",
      "name": "python3-azureml"
    },
    "language_info": {
      "codemirror_mode": {
        "name": "ipython",
        "version": 3
      },
      "file_extension": ".py",
      "mimetype": "text/x-python",
      "name": "python",
      "nbconvert_exporter": "python",
      "pygments_lexer": "ipython3",
      "version": "3.6.9"
    },
    "microsoft": {
      "host": {
        "AzureML": {
          "notebookHasBeenCompleted": true
        }
      }
    },
    "nteract": {
      "version": "nteract-front-end@1.0.0"
    }
  },
  "nbformat": 4,
  "nbformat_minor": 0
}
