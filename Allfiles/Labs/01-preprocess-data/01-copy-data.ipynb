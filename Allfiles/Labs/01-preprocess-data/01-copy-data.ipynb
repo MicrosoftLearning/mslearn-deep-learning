{
  "cells": [
    {
      "cell_type": "markdown",
      "metadata": {
        "nteract": {
          "transient": {
            "deleting": false
          }
        }
      },
      "source": [
        "# Copy the flight data to the default datastore\n",
        "\n",
        "In this notebook, you'll be using a series of shell scripts to download the high-dimensional airline data: the Airline Service Quality Performance dataset, distributed by the U.S. Bureau of Transportation Statistics. 1987-2021. https://www.bts.dot.gov/browse-statistical-products-and-data/bts-publications/airline-service-quality-performance-234-time)\n",
        "\n",
        "This dataset is open source and provided on an ongoing basis by the U.S. Bureau of Transportation Statistics.\n",
        "\n",
        "Each month, the Bureau publishes a new csv file containing all flight information for the prior month. A single month of data may not be enough to build out a robust machine learning model. Our goal is to download several years' worth of this data and then combine it into a single csv file.\n",
        "\n",
        "In addition to the flight data, you'll also be downloading a file containing metadata and geo-coordinates of each airport and a file containing the code mappings for each airline. Airlines and airports rarely change, and as such, these files are static and do not change on a monthly basis. They do, however, contain information that we will later need to be mapped to the full airline dataset. (Megginson, David. \"airports.csv\", distributed by OurAirports. August 2, 2021. https://ourairports.com/data/airports.csv)"
      ]
    },
    {
      "cell_type": "markdown",
      "metadata": {
        "nteract": {
          "transient": {
            "deleting": false
          }
        }
      },
      "source": [
        "## Get the data\n",
        "\n",
        "For easy reuse, you'll copy the data to the default datastore which is an Azure Storage Account. To get the data, you start by copying the data from the source to the compute instance. Then, you'll upload it to the datastore."
      ]
    },
    {
      "cell_type": "code",
      "execution_count": null,
      "metadata": {
        "gather": {
          "logged": 1636483081999
        },
        "jupyter": {
          "outputs_hidden": false,
          "source_hidden": false
        },
        "nteract": {
          "transient": {
            "deleting": false
          }
        }
      },
      "outputs": [],
      "source": [
        "# Set the location for data and name for final raw csv\n",
        "data_dir = \"./data\"\n",
        "csvfile_full = f\"{data_dir}/airlines_raw_data_full.csv\""
      ]
    },
    {
      "cell_type": "code",
      "execution_count": null,
      "metadata": {
        "jupyter": {
          "outputs_hidden": false,
          "source_hidden": false
        },
        "nteract": {
          "transient": {
            "deleting": false
          }
        }
      },
      "outputs": [],
      "source": [
        "%%bash\n",
        "\n",
        "# Files are stored on bts.gov with 1 file per-month, download each month for a subset of years\n",
        "for month in `seq 1 8`; do \n",
        "  for year in `seq 2019 2019`; do\n",
        "    wget -q --no-check-certificate https://transtats.bts.gov/PREZIP/On_Time_Reporting_Carrier_On_Time_Performance_1987_present_${year}_${month}.zip\n",
        "    unzip -qou On_Time_Reporting_Carrier_On_Time_Performance_1987_present_${year}_${month}.zip\n",
        "  done\n",
        "done"
      ]
    },
    {
      "cell_type": "code",
      "execution_count": null,
      "metadata": {
        "jupyter": {
          "outputs_hidden": false,
          "source_hidden": false
        },
        "nteract": {
          "transient": {
            "deleting": false
          }
        }
      },
      "outputs": [],
      "source": [
        "%%bash -s \"$data_dir\"\n",
        "data_dir=\"${1}\"\n",
        "\n",
        "# Remove the temporary .zip files and combine all CSV files into a single large file\n",
        "rm -f On_Time_Reporting_Carrier_On_Time_Performance_1987_present_*zip*\n",
        "mkdir -p \"${data_dir}\"\n",
        "cat *csv > \"${data_dir}/airlines_raw_data_full.csv\"\n",
        "rm On_Time_Reporting_Carrier_On_Time_Performance*csv"
      ]
    },
    {
      "cell_type": "code",
      "execution_count": null,
      "metadata": {
        "jupyter": {
          "outputs_hidden": false,
          "source_hidden": false
        },
        "nteract": {
          "transient": {
            "deleting": false
          }
        }
      },
      "outputs": [],
      "source": [
        "%%bash -s \"$data_dir\"\n",
        "data_dir=\"${1}\"\n",
        "\n",
        "# Download some static files that describe metadata about airports, airlines, and locations\n",
        "cd \"${data_dir}\"\n",
        "wget -q --no-check-certificate https://ourairports.com/data/airports.csv\n",
        "wget -q --no-check-certificate  https://sagemaker-rapids-hpo-us-west-2.s3-us-west-2.amazonaws.com/airline_csv/carriers.csv"
      ]
    },
    {
      "cell_type": "markdown",
      "metadata": {
        "nteract": {
          "transient": {
            "deleting": false
          }
        }
      },
      "source": [
        "## Explore the data\n",
        "\n",
        "Let's check whether you have all the data, how much data you have and what it contains."
      ]
    },
    {
      "cell_type": "code",
      "execution_count": null,
      "metadata": {
        "jupyter": {
          "outputs_hidden": false,
          "source_hidden": false
        },
        "nteract": {
          "transient": {
            "deleting": false
          }
        }
      },
      "outputs": [],
      "source": [
        "%%bash -s \"$data_dir\"\n",
        "data_dir=\"${1}\"\n",
        "\n",
        "# Print out some debug information about the downloaded files\n",
        "ls -lh \"${data_dir}/airlines_raw_data_full.csv\"\n",
        "ls -lh \"${data_dir}/carriers.csv\"\n",
        "ls -lh \"${data_dir}/airports.csv\"\n",
        "wc -l  \"${data_dir}/airlines_raw_data_full.csv\"\n",
        "wc -l  \"${data_dir}/carriers.csv\"\n",
        "wc -l  \"${data_dir}/airports.csv\""
      ]
    },
    {
      "cell_type": "code",
      "execution_count": null,
      "metadata": {
        "jupyter": {
          "outputs_hidden": false,
          "source_hidden": false
        },
        "nteract": {
          "transient": {
            "deleting": false
          }
        }
      },
      "outputs": [],
      "source": [
        "%%bash -s \"$data_dir\"\n",
        "data_dir=\"${1}\"\n",
        "\n",
        "# Take a look at the headers for each of the CSV files\n",
        "head -n 1 \"${data_dir}/airlines_raw_data_full.csv\"\n",
        "echo\n",
        "head -n 1 \"${data_dir}/carriers.csv\"\n",
        "echo\n",
        "head -n 1 \"${data_dir}/airports.csv\""
      ]
    },
    {
      "cell_type": "markdown",
      "metadata": {
        "nteract": {
          "transient": {
            "deleting": false
          }
        }
      },
      "source": [
        "## Upload all the files to the default datastore\n",
        "\n",
        "To process the data with cuDF you need to use the compute cluster (as it uses GPU). To give the cluster access to your data, you'll upload all the files to the default datastore (the Azure Storage Account created together with the Azure Machine Learning workspace)."
      ]
    },
    {
      "cell_type": "code",
      "execution_count": null,
      "metadata": {
        "gather": {
          "logged": 1636486155034
        },
        "jupyter": {
          "outputs_hidden": false,
          "source_hidden": false
        },
        "nteract": {
          "transient": {
            "deleting": false
          }
        }
      },
      "outputs": [],
      "source": [
        "from azureml.core import Workspace, Datastore, Dataset\n",
        "ws = Workspace.from_config()\n",
        "# Get the default datastore\n",
        "default_ds = ws.get_default_datastore()\n",
        "\n",
        "default_ds.upload_files(files=['./data/airlines_raw_data_full.csv', './data/airports.csv', './data/carriers.csv'], # Upload the diabetes csv files in /data\n",
        "                       target_path='airport-data/', # Put it in a folder path in the datastore\n",
        "                       overwrite=True, # Replace existing files of the same name\n",
        "                       show_progress=True)"
      ]
    },
    {
      "cell_type": "markdown",
      "metadata": {
        "nteract": {
          "transient": {
            "deleting": false
          }
        }
      },
      "source": [
        "You can check whether the data has successfully been uploaded by going to [https://portal.azure.com](https://portal.azure.com). Navigate to the Azure Storage Account created with the Azure Machine Learning workspace (both will be in the same resource group).\n",
        "\n",
        "In the Storage Account, go to containers. In the container starting with the prefix `azureml-blobstore` and find the `airport-data` folder."
      ]
    }
  ],
  "metadata": {
    "kernel_info": {
      "name": "python3-azureml"
    },
    "kernelspec": {
      "display_name": "Python 3.6 - AzureML",
      "language": "python",
      "name": "python3-azureml"
    },
    "language_info": {
      "codemirror_mode": {
        "name": "ipython",
        "version": 3
      },
      "file_extension": ".py",
      "mimetype": "text/x-python",
      "name": "python",
      "nbconvert_exporter": "python",
      "pygments_lexer": "ipython3",
      "version": "3.6.9"
    },
    "nteract": {
      "version": "nteract-front-end@1.0.0"
    }
  },
  "nbformat": 4,
  "nbformat_minor": 0
}
