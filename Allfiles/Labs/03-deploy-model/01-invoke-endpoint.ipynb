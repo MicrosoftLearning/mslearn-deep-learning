{
  "cells": [
    {
      "cell_type": "markdown",
      "metadata": {},
      "source": [
        "# Invoke the Triton managed online endpoint and get predictions\n",
        "\n",
        "In this notebook, you'll consume the endpoint you have created in previous steps. The Triton managed online endpoint should be created and deployed. You need the REST endpoint and key to successfully run the cells in this notebook.\n",
        "\n",
        "> This notebook is based on the Azure Machine Leraning example for using Triton endpoitns: https://github.com/Azure/azureml-examples/tree/main/cli/endpoints/online/triton/single-model"
      ]
    },
    {
      "cell_type": "markdown",
      "metadata": {},
      "source": [
        "In the **03-deploy-model** you'll find the **triton_densenet_scoring.py** script. You'll run this script by parsing your endpoint and key as parameters. Open the script to review its contents. \n",
        "\n",
        "As you may conclude, the script takes an image URL as input and preprocesses it before sending it to your endpoint. The result is then \"translated\" with the help of the **densenet_labels.txt** file that is stored in the same folder. "
      ]
    },
    {
      "cell_type": "code",
      "execution_count": null,
      "metadata": {},
      "outputs": [],
      "source": [
        "# Install the necessary libraries to run the script.\n",
        "! pip install numpy\n",
        "! pip install tritonclient[http]\n",
        "! pip install pillow\n",
        "! pip install gevent"
      ]
    },
    {
      "cell_type": "markdown",
      "metadata": {},
      "source": [
        "## Update the parameters\n",
        "\n",
        "Update the input parameters in the cell below. Replace \"your-endpoint\" with the REST endpoint of your endpoint. And replace \"your-key\" with the key of your endpoint."
      ]
    },
    {
      "cell_type": "code",
      "execution_count": null,
      "metadata": {
        "jupyter": {
          "outputs_hidden": false,
          "source_hidden": false
        },
        "nteract": {
          "transient": {
            "deleting": false
          }
        }
      },
      "outputs": [],
      "source": [
        "# Update the command below with your endpoint and key\n",
        "%run triton_densenet_scoring.py --base_url=your-endpoint --token=your-key --image_url https://aka.ms/peacock-pic"
      ]
    },
    {
      "cell_type": "markdown",
      "metadata": {},
      "source": [
        "To test out different images, you can change the image URL provided in the cell above. Feel free to use any image URL you have. Here are three URLs created for you to test other images:\n",
        "- https://aka.ms/image01\n",
        "- https://aka.ms/image02\n",
        "- https://aka.ms/image03"
      ]
    },
    {
      "cell_type": "markdown",
      "metadata": {},
      "source": [
        "## Delete resources\n",
        "\n",
        "When you're done experimenting:\n",
        "- Delete the endpoint\n",
        "- Stop the compute instance"
      ]
    }
  ],
  "metadata": {
    "kernel_info": {
      "name": "python3-azureml"
    },
    "kernelspec": {
      "display_name": "Python 3.6 - AzureML",
      "language": "python",
      "name": "python3-azureml"
    },
    "language_info": {
      "codemirror_mode": {
        "name": "ipython",
        "version": 3
      },
      "file_extension": ".py",
      "mimetype": "text/x-python",
      "name": "python",
      "nbconvert_exporter": "python",
      "pygments_lexer": "ipython3",
      "version": "3.6.9"
    },
    "nteract": {
      "version": "nteract-front-end@1.0.0"
    }
  },
  "nbformat": 4,
  "nbformat_minor": 0
}
