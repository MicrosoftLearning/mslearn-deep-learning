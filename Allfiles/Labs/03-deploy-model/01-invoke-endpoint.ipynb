{
  "cells": [
    {
      "cell_type": "code",
      "execution_count": 1,
      "metadata": {},
      "outputs": [
        {
          "name": "stdout",
          "output_type": "stream",
          "text": [
            "Requirement already satisfied: numpy in /anaconda/envs/azureml_py36/lib/python3.6/site-packages (1.18.5)\n",
            "Collecting tritonclient[http]\n",
            "  Downloading tritonclient-2.17.0-py3-none-manylinux1_x86_64.whl (7.8 MB)\n",
            "\u001b[K     |████████████████████████████████| 7.8 MB 20.5 MB/s eta 0:00:01\n",
            "\u001b[?25hCollecting numpy>=1.19.1\n",
            "  Downloading numpy-1.19.5-cp36-cp36m-manylinux2010_x86_64.whl (14.8 MB)\n",
            "\u001b[K     |████████████████████████████████| 14.8 MB 53.9 MB/s eta 0:00:01\n",
            "\u001b[?25hCollecting python-rapidjson>=0.9.1\n",
            "  Downloading python_rapidjson-1.5-cp36-cp36m-manylinux_2_5_x86_64.manylinux1_x86_64.manylinux_2_12_x86_64.manylinux2010_x86_64.whl (1.5 MB)\n",
            "\u001b[K     |████████████████████████████████| 1.5 MB 48.4 MB/s eta 0:00:01\n",
            "\u001b[?25hCollecting geventhttpclient>=1.4.4; extra == \"http\"\n",
            "  Downloading geventhttpclient-1.5.3-cp36-cp36m-manylinux_2_5_x86_64.manylinux1_x86_64.manylinux_2_12_x86_64.manylinux2010_x86_64.whl (76 kB)\n",
            "\u001b[K     |████████████████████████████████| 76 kB 5.2 MB/s  eta 0:00:01\n",
            "\u001b[?25hCollecting brotli\n",
            "  Downloading Brotli-1.0.9-cp36-cp36m-manylinux1_x86_64.whl (357 kB)\n",
            "\u001b[K     |████████████████████████████████| 357 kB 45.9 MB/s eta 0:00:01\n",
            "\u001b[?25hRequirement already satisfied: certifi in /anaconda/envs/azureml_py36/lib/python3.6/site-packages (from geventhttpclient>=1.4.4; extra == \"http\"->tritonclient[http]) (2021.10.8)\n",
            "Requirement already satisfied: gevent>=0.13 in /anaconda/envs/azureml_py36/lib/python3.6/site-packages (from geventhttpclient>=1.4.4; extra == \"http\"->tritonclient[http]) (1.3.6)\n",
            "Requirement already satisfied: six in /anaconda/envs/azureml_py36/lib/python3.6/site-packages (from geventhttpclient>=1.4.4; extra == \"http\"->tritonclient[http]) (1.16.0)\n",
            "Requirement already satisfied: greenlet>=0.4.14; platform_python_implementation == \"CPython\" in /anaconda/envs/azureml_py36/lib/python3.6/site-packages (from gevent>=0.13->geventhttpclient>=1.4.4; extra == \"http\"->tritonclient[http]) (1.1.2)\n",
            "\u001b[31mERROR: pandas-ml 0.6.1 requires enum34, which is not installed.\u001b[0m\n",
            "\u001b[31mERROR: torchvision 0.9.1 has requirement torch==1.8.1, but you'll have torch 1.10.0 which is incompatible.\u001b[0m\n",
            "\u001b[31mERROR: tensorflow 2.1.0 has requirement scipy==1.4.1; python_version >= \"3\", but you'll have scipy 1.5.2 which is incompatible.\u001b[0m\n",
            "\u001b[31mERROR: tensorflow-gpu 2.1.0 has requirement scipy==1.4.1; python_version >= \"3\", but you'll have scipy 1.5.2 which is incompatible.\u001b[0m\n",
            "\u001b[31mERROR: raiwidgets 0.13.0 has requirement jinja2==2.11.3, but you'll have jinja2 2.11.2 which is incompatible.\u001b[0m\n",
            "\u001b[31mERROR: pyldavis 3.3.1 has requirement numpy>=1.20.0, but you'll have numpy 1.19.5 which is incompatible.\u001b[0m\n",
            "\u001b[31mERROR: pyldavis 3.3.1 has requirement pandas>=1.2.0, but you'll have pandas 0.25.3 which is incompatible.\u001b[0m\n",
            "\u001b[31mERROR: pycaret 2.3.5 has requirement lightgbm>=2.3.1, but you'll have lightgbm 2.3.0 which is incompatible.\u001b[0m\n",
            "\u001b[31mERROR: pycaret 2.3.5 has requirement scikit-learn==0.23.2, but you'll have scikit-learn 0.22.2.post1 which is incompatible.\u001b[0m\n",
            "\u001b[31mERROR: pandas-profiling 3.1.0 has requirement joblib~=1.0.1, but you'll have joblib 0.14.1 which is incompatible.\u001b[0m\n",
            "\u001b[31mERROR: imbalanced-learn 0.7.0 has requirement scikit-learn>=0.23, but you'll have scikit-learn 0.22.2.post1 which is incompatible.\u001b[0m\n",
            "\u001b[31mERROR: imageio 2.11.0 has requirement pillow>=8.3.2, but you'll have pillow 8.0.0 which is incompatible.\u001b[0m\n",
            "\u001b[31mERROR: datasets 1.8.0 has requirement tqdm<4.50.0,>=4.27, but you'll have tqdm 4.62.3 which is incompatible.\u001b[0m\n",
            "\u001b[31mERROR: azureml-train-automl-runtime 1.36.0 has requirement numpy<1.19.0,>=1.16.0, but you'll have numpy 1.19.5 which is incompatible.\u001b[0m\n",
            "\u001b[31mERROR: azureml-automl-runtime 1.36.0 has requirement numpy<1.19.0,>=1.16.0, but you'll have numpy 1.19.5 which is incompatible.\u001b[0m\n",
            "\u001b[31mERROR: autokeras 1.0.16.post1 has requirement tensorflow<2.6,>=2.3.0, but you'll have tensorflow 2.1.0 which is incompatible.\u001b[0m\n",
            "Installing collected packages: numpy, python-rapidjson, brotli, geventhttpclient, tritonclient\n",
            "  Attempting uninstall: numpy\n",
            "    Found existing installation: numpy 1.18.5\n",
            "    Uninstalling numpy-1.18.5:\n",
            "      Successfully uninstalled numpy-1.18.5\n",
            "Successfully installed brotli-1.0.9 geventhttpclient-1.5.3 numpy-1.19.5 python-rapidjson-1.5 tritonclient-2.17.0\n",
            "Requirement already satisfied: pillow in /anaconda/envs/azureml_py36/lib/python3.6/site-packages (8.0.0)\n",
            "Requirement already satisfied: gevent in /anaconda/envs/azureml_py36/lib/python3.6/site-packages (1.3.6)\n",
            "Requirement already satisfied: greenlet>=0.4.14; platform_python_implementation == \"CPython\" in /anaconda/envs/azureml_py36/lib/python3.6/site-packages (from gevent) (1.1.2)\n"
          ]
        }
      ],
      "source": [
        "! pip install numpy\n",
        "! pip install tritonclient[http]\n",
        "! pip install pillow\n",
        "! pip install gevent"
      ]
    },
    {
      "cell_type": "code",
      "execution_count": 11,
      "metadata": {
        "jupyter": {
          "outputs_hidden": false,
          "source_hidden": false
        },
        "nteract": {
          "transient": {
            "deleting": false
          }
        }
      },
      "outputs": [
        {
          "name": "stdout",
          "output_type": "stream",
          "text": [
            "Is server ready - True\n",
            "Is model ready - True\n",
            "/mnt/batch/tasks/shared/LS_root/mounts/clusters/instance-test-dl/code/Users/madiepev/test-m03/densenet_labels.txt\n",
            "105 : KOALA\n"
          ]
        }
      ],
      "source": [
        "%run triton_densenet_scoring.py --base_url=<your-endpoint> --token=<your-key> --image_url https://aka.ms/animal01"
      ]
    },
    {
      "cell_type": "code",
      "execution_count": null,
      "metadata": {
        "jupyter": {
          "outputs_hidden": false,
          "source_hidden": false
        },
        "nteract": {
          "transient": {
            "deleting": false
          }
        }
      },
      "outputs": [],
      "source": []
    }
  ],
  "metadata": {
    "kernel_info": {
      "name": "python3-azureml"
    },
    "kernelspec": {
      "display_name": "Python 3.6 - AzureML",
      "language": "python",
      "name": "python3-azureml"
    },
    "language_info": {
      "codemirror_mode": {
        "name": "ipython",
        "version": 3
      },
      "file_extension": ".py",
      "mimetype": "text/x-python",
      "name": "python",
      "nbconvert_exporter": "python",
      "pygments_lexer": "ipython3",
      "version": "3.6.9"
    },
    "nteract": {
      "version": "nteract-front-end@1.0.0"
    }
  },
  "nbformat": 4,
  "nbformat_minor": 0
}
