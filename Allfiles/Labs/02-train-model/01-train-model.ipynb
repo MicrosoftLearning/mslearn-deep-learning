{
  "cells": [
    {
      "cell_type": "markdown",
      "metadata": {},
      "source": [
        "# Train a model with PyTorch using GPUs\n",
        "\n",
        "In this notebook, you'll train a PyTorch Convolutional Neural Network (CNN) model on MNIST data with a GPU compute cluster.\n",
        "\n",
        "> This notebook is based on the Azure Machine Learning example for using PyTorch: https://github.com/Azure/azureml-examples/tree/main/python-sdk/workflows/train/pytorch/mnist"
      ]
    },
    {
      "cell_type": "code",
      "execution_count": null,
      "metadata": {
        "gather": {
          "logged": 1641820919140
        }
      },
      "outputs": [],
      "source": [
        "# imports\n",
        "\n",
        "from azureml.core import Workspace\n",
        "from azureml.core import ScriptRunConfig, Experiment, Environment"
      ]
    },
    {
      "cell_type": "markdown",
      "metadata": {},
      "source": [
        "## Get environment variables\n",
        "\n",
        "Before you can submit the job, you have to get all necessary environment variables such as the workspace, environment, compute, and input arguments."
      ]
    },
    {
      "cell_type": "code",
      "execution_count": null,
      "metadata": {
        "gather": {
          "logged": 1641820923063
        },
        "jupyter": {
          "outputs_hidden": false,
          "source_hidden": false
        },
        "nteract": {
          "transient": {
            "deleting": false
          }
        }
      },
      "outputs": [],
      "source": [
        "from azureml.core import Workspace\n",
        "\n",
        "ws = Workspace.from_config()"
      ]
    },
    {
      "cell_type": "code",
      "execution_count": null,
      "metadata": {
        "gather": {
          "logged": 1641820923908
        },
        "jupyter": {
          "outputs_hidden": false,
          "source_hidden": false
        },
        "nteract": {
          "transient": {
            "deleting": false
          }
        }
      },
      "outputs": [],
      "source": [
        "from azureml.core import Environment\n",
        "\n",
        "pytorch_env = Environment.get(workspace=ws, name=\"AzureML-pytorch-1.10-ubuntu18.04-py38-cuda11-gpu\")"
      ]
    },
    {
      "cell_type": "markdown",
      "metadata": {},
      "source": [
        "## Define the configuration and submit the run\n",
        "\n",
        "Now that we have defined all necessary variables, we can define the script run configuration and submit the run.\n",
        "\n",
        "**Warning!** Change the value of the compute_target variable to your compute cluster name before running the code below!"
      ]
    },
    {
      "cell_type": "code",
      "execution_count": null,
      "metadata": {
        "gather": {
          "logged": 1641820925988
        },
        "jupyter": {
          "outputs_hidden": false,
          "source_hidden": false
        },
        "nteract": {
          "transient": {
            "deleting": false
          }
        }
      },
      "outputs": [],
      "source": [
        "from azureml.core import ScriptRunConfig\n",
        "\n",
        "src = ScriptRunConfig(source_directory='script',\n",
        "                      script='train.py',\n",
        "                      arguments = [\"--epochs\", 2],\n",
        "                      compute_target=\"<your-compute-cluster>\",\n",
        "                      environment=pytorch_env)\n"
      ]
    },
    {
      "cell_type": "markdown",
      "metadata": {},
      "source": [
        "To learn what is done during training, explore the script `train.py` in the `script` folder.\n",
        "\n",
        "The following cell will initiate the run. Note that first, the compute cluster has to scale up from 0 nodes. Once a node is available, it will execute the script. The execution of the script should be fast and you can see the execution time in the **Details** tab of the **Experiment** run afterwards."
      ]
    },
    {
      "cell_type": "code",
      "execution_count": null,
      "metadata": {
        "gather": {
          "logged": 1641821762326
        },
        "jupyter": {
          "outputs_hidden": false,
          "source_hidden": false
        },
        "nteract": {
          "transient": {
            "deleting": false
          }
        }
      },
      "outputs": [],
      "source": [
        "from azureml.core import Experiment\n",
        "\n",
        "run = Experiment(ws,'train-model').submit(src)\n",
        "run.wait_for_completion(show_output=True)"
      ]
    },
    {
      "cell_type": "markdown",
      "metadata": {},
      "source": [
        "You should get a notification in the Studio that a new run has started and is running. \n",
        "\n",
        "You can also navigate to the **Experiments** tab, and find the experiment `train-model` there. \n",
        "\n",
        "Once it has finished running, have a look at the **Metrics** tab to view two evaluation metrics for the two epochs. In the **Details** tab, you can see how long it took to run."
      ]
    }
  ],
  "metadata": {
    "kernel_info": {
      "name": "python3-azureml"
    },
    "kernelspec": {
      "display_name": "Python 3.6 - AzureML",
      "language": "python",
      "name": "python3-azureml"
    },
    "language_info": {
      "codemirror_mode": {
        "name": "ipython",
        "version": 3
      },
      "file_extension": ".py",
      "mimetype": "text/x-python",
      "name": "python",
      "nbconvert_exporter": "python",
      "pygments_lexer": "ipython3",
      "version": "3.6.9"
    },
    "microsoft": {
      "host": {
        "AzureML": {
          "notebookHasBeenCompleted": true
        }
      }
    },
    "nteract": {
      "version": "nteract-front-end@1.0.0"
    }
  },
  "nbformat": 4,
  "nbformat_minor": 0
}
